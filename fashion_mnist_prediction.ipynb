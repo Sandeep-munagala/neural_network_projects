{
  "nbformat": 4,
  "nbformat_minor": 0,
  "metadata": {
    "colab": {
      "provenance": []
    },
    "kernelspec": {
      "name": "python3",
      "display_name": "Python 3"
    },
    "language_info": {
      "name": "python"
    }
  },
  "cells": [
    {
      "cell_type": "code",
      "execution_count": null,
      "metadata": {
        "id": "AGvOP_WPI0Zq"
      },
      "outputs": [],
      "source": [
        "import tensorflow as tf"
      ]
    },
    {
      "cell_type": "code",
      "source": [
        "from tensorflow import keras"
      ],
      "metadata": {
        "id": "nFhdNo7UI5XS"
      },
      "execution_count": null,
      "outputs": []
    },
    {
      "cell_type": "code",
      "source": [
        "fashion_mnist = tf.keras.datasets.fashion_mnist"
      ],
      "metadata": {
        "id": "b85Gp_-xJDKC"
      },
      "execution_count": null,
      "outputs": []
    },
    {
      "cell_type": "code",
      "source": [
        "(train_images,train_labels),(test_images,test_labels) = fashion_mnist.load_data()"
      ],
      "metadata": {
        "id": "vQDFxi9fJO_u"
      },
      "execution_count": null,
      "outputs": []
    },
    {
      "cell_type": "code",
      "source": [
        "import numpy as np\n",
        "import matplotlib.pyplot as plt\n",
        "index = 80\n",
        "np.set_printoptions(linewidth = 320)\n",
        "print(train_images[index])\n",
        "plt.imshow(train_images[index],cmap = 'Greys')"
      ],
      "metadata": {
        "colab": {
          "base_uri": "https://localhost:8080/",
          "height": 948
        },
        "id": "VMOvDCcCMN17",
        "outputId": "50cea4b7-0fba-4a4a-e805-cf96e841ed98"
      },
      "execution_count": null,
      "outputs": [
        {
          "output_type": "stream",
          "name": "stdout",
          "text": [
            "[[  0   0   0   0   0   0   0   0   0   0 175 119 114  86  89  99 109 132   0   0   0   0   0   0   0   0   0   0]\n",
            " [  0   0   0   0   0   0   0   0   0  92 255 254 255 255 255 255 250 255  19   0   0   0   0   0   0   0   0   0]\n",
            " [  0   0   0   0   0   0   0   0   0 211 234 210 219 220 215 210 206 255 119   0   0   0   0   0   0   0   0   0]\n",
            " [  0   0   0   0   0   0   0   0   0 255 231 224 226 225 223 222 215 237 204   0   0   0   0   0   0   0   0   0]\n",
            " [  0   0   0   0   0   0   0   0  50 255 221 228 227 227 224 224 222 221 251   0   0   0   0   0   0   0   0   0]\n",
            " [  0   0   0   0   0   0   0   0 135 255 221 229 229 228 226 228 226 218 255  78   0   0   0   0   0   0   0   0]\n",
            " [  0   0   0   0   0   0   0   0 180 245 222 227 228 228 227 225 224 220 252 106   0   0   0   0   0   0   0   0]\n",
            " [  0   0   0   0   0   0   0   0 204 232 221 224 225 226 226 224 224 217 247 124   0   0   0   0   0   0   0   0]\n",
            " [  0   0   0   0   0   0   0   0 208 233 222 226 225 231 231 226 225 221 244 138   0   0   0   0   0   0   0   0]\n",
            " [  0   0   0   0   0   0   0   0 203 234 224 226 224 224 237 228 224 219 244 149   0   0   0   0   0   0   0   0]\n",
            " [  0   0   0   0   0   0   0   0 188 248 222 223 236 191 215 238 223 219 243 151   0   0   0   0   0   0   0   0]\n",
            " [  0   0   0   0   0   0   0   0 115 255 221 221 250 161 186 252 220 217 255 113   0   0   0   0   0   0   0   0]\n",
            " [  0   0   0   0   0   0   0   0  17 255 225 219 255 105 131 255 213 221 255  46   0   0   0   0   0   0   0   0]\n",
            " [  0   0   0   0   0   0   0   0   0 240 231 214 255  69  76 255 214 228 250   0   0   0   0   0   0   0   0   0]\n",
            " [  0   0   0   0   0   0   0   0   0 186 238 218 255  26  34 255 219 229 200   0   0   0   0   0   0   0   0   0]\n",
            " [  0   0   0   0   0   0   0   0   0 128 243 218 255  11  24 255 222 232 141   0   0   0   0   0   0   0   0   0]\n",
            " [  0   0   0   0   0   0   0   0   0 111 244 219 255   5  15 255 221 237 119   0   0   0   0   0   0   0   0   0]\n",
            " [  0   0   0   0   0   0   0   0   0 114 243 222 255   0   0 255 225 238 124   0   0   0   0   0   0   0   0   0]\n",
            " [  0   0   0   0   0   0   0   0   0 151 241 228 232   0   0 238 232 235 153   0   0   0   0   0   0   0   0   0]\n",
            " [  0   0   0   0   0   0   0   0   0 203 235 235 192   0   0 201 236 234 187   0   0   0   0   0   0   0   0   0]\n",
            " [  0   0   0   0   0   0   0   0   0 217 232 240 147   0   0 177 241 231 202   0   0   0   0   0   0   0   0   0]\n",
            " [  0   0   0   0   0   0   0   0   0 227 233 239 124   0   0 158 243 232 205   0   0   0   0   0   0   0   0   0]\n",
            " [  0   0   0   0   0   0   0   0   0 221 233 238  64   0   0 120 243 235 197   0   0   0   0   0   0   0   0   0]\n",
            " [  0   0   0   0   0   0   0   0   0 202 240 221   0   0   0  38 237 239 158   0   0   0   0   0   0   0   0   0]\n",
            " [  0   0   0   0   0   0   0   0   0 184 246 192   0   0   0  18 230 240 120   0   0   0   0   0   0   0   0   0]\n",
            " [  0   0   0   0   0   0   0   0   0 177 248 172   0   0   0   0 220 239 124   0   0   0   0   0   0   0   0   0]\n",
            " [  0   0   0   0   0   0   0   0  30 194 245 179   0   2   0   0 209 245 227  43   0   0   0   0   0   0   0   0]\n",
            " [  0   0   0   0   0   0   0   0   0  40  16   2   0   0   0   0  21  35  29   9   0   0   0   0   0   0   0   0]]\n"
          ]
        },
        {
          "output_type": "execute_result",
          "data": {
            "text/plain": [
              "<matplotlib.image.AxesImage at 0x7db597cbab30>"
            ]
          },
          "metadata": {},
          "execution_count": 29
        },
        {
          "output_type": "display_data",
          "data": {
            "text/plain": [
              "<Figure size 640x480 with 1 Axes>"
            ],
            "image/png": "[encoded data removed]"
          },
          "metadata": {}
        }
      ]
    },
    {
      "cell_type": "code",
      "source": [
        "train_images = train_images/255.0\n",
        "test_images = test_images/255.0"
      ],
      "metadata": {
        "id": "-mwq9FYUOZTJ"
      },
      "execution_count": null,
      "outputs": []
    },
    {
      "cell_type": "code",
      "source": [
        "tf.keras.Sequential([\n",
        "    tf.keras.layers.Flatten(input_shape = (28,28)),\n",
        "    tf.keras.layers.Dense(units = 128,activation = 'relu'),\n",
        "    tf.keras.layers.Dense(units = 10,activation = 'softmax')\n",
        "])"
      ],
      "metadata": {
        "colab": {
          "base_uri": "https://localhost:8080/"
        },
        "id": "pPxQYu6tOyi_",
        "outputId": "9335c059-11e5-4342-cc5a-7a99fd138862"
      },
      "execution_count": null,
      "outputs": [
        {
          "output_type": "execute_result",
          "data": {
            "text/plain": [
              "<keras.engine.sequential.Sequential at 0x7db5b1695810>"
            ]
          },
          "metadata": {},
          "execution_count": 32
        }
      ]
    },
    {
      "cell_type": "code",
      "source": [
        "model.compile(optimizer = tf.optimizers.Adam(),loss = 'sparse_categorical_crossentropy',metrics = ['accuracy'])"
      ],
      "metadata": {
        "id": "9n3wrxBjPWAj"
      },
      "execution_count": null,
      "outputs": []
    },
    {
      "cell_type": "code",
      "source": [
        "model.fit(train_images,train_labels,epochs = 50)"
      ],
      "metadata": {
        "colab": {
          "base_uri": "https://localhost:8080/"
        },
        "id": "omLVhPRCS7n2",
        "outputId": "0cda5347-e814-4305-e60c-f653cef9baaa"
      },
      "execution_count": null,
      "outputs": [
        {
          "output_type": "stream",
          "name": "stdout",
          "text": [
            "Epoch 1/50\n",
            "1875/1875 [==============================] - 10s 5ms/step - loss: 0.2283 - accuracy: 0.9139\n",
            "Epoch 2/50\n",
            "1875/1875 [==============================] - 10s 5ms/step - loss: 0.2200 - accuracy: 0.9175\n",
            "Epoch 3/50\n",
            "1875/1875 [==============================] - 7s 4ms/step - loss: 0.2133 - accuracy: 0.9204\n",
            "Epoch 4/50\n",
            "1875/1875 [==============================] - 8s 4ms/step - loss: 0.2073 - accuracy: 0.9218\n",
            "Epoch 5/50\n",
            "1875/1875 [==============================] - 7s 4ms/step - loss: 0.2025 - accuracy: 0.9238\n",
            "Epoch 6/50\n",
            "1875/1875 [==============================] - 9s 5ms/step - loss: 0.1955 - accuracy: 0.9267\n",
            "Epoch 7/50\n",
            "1875/1875 [==============================] - 8s 4ms/step - loss: 0.1906 - accuracy: 0.9284\n",
            "Epoch 8/50\n",
            "1875/1875 [==============================] - 7s 4ms/step - loss: 0.1870 - accuracy: 0.9296\n",
            "Epoch 9/50\n",
            "1875/1875 [==============================] - 8s 4ms/step - loss: 0.1789 - accuracy: 0.9329\n",
            "Epoch 10/50\n",
            "1875/1875 [==============================] - 7s 4ms/step - loss: 0.1771 - accuracy: 0.9337\n",
            "Epoch 11/50\n",
            "1875/1875 [==============================] - 9s 5ms/step - loss: 0.1714 - accuracy: 0.9353\n",
            "Epoch 12/50\n",
            "1875/1875 [==============================] - 8s 4ms/step - loss: 0.1672 - accuracy: 0.9369\n",
            "Epoch 13/50\n",
            "1875/1875 [==============================] - 7s 4ms/step - loss: 0.1628 - accuracy: 0.9390\n",
            "Epoch 14/50\n",
            "1875/1875 [==============================] - 8s 4ms/step - loss: 0.1615 - accuracy: 0.9397\n",
            "Epoch 15/50\n",
            "1875/1875 [==============================] - 7s 4ms/step - loss: 0.1552 - accuracy: 0.9426\n",
            "Epoch 16/50\n",
            "1875/1875 [==============================] - 8s 4ms/step - loss: 0.1536 - accuracy: 0.9422\n",
            "Epoch 17/50\n",
            "1875/1875 [==============================] - 9s 5ms/step - loss: 0.1479 - accuracy: 0.9450\n",
            "Epoch 18/50\n",
            "1875/1875 [==============================] - 7s 3ms/step - loss: 0.1454 - accuracy: 0.9448\n",
            "Epoch 19/50\n",
            "1875/1875 [==============================] - 8s 4ms/step - loss: 0.1436 - accuracy: 0.9458\n",
            "Epoch 20/50\n",
            "1875/1875 [==============================] - 7s 4ms/step - loss: 0.1405 - accuracy: 0.9481\n",
            "Epoch 21/50\n",
            "1875/1875 [==============================] - 9s 5ms/step - loss: 0.1348 - accuracy: 0.9492\n",
            "Epoch 22/50\n",
            "1875/1875 [==============================] - 7s 4ms/step - loss: 0.1343 - accuracy: 0.9498\n",
            "Epoch 23/50\n",
            "1875/1875 [==============================] - 7s 4ms/step - loss: 0.1309 - accuracy: 0.9512\n",
            "Epoch 24/50\n",
            "1875/1875 [==============================] - 8s 4ms/step - loss: 0.1294 - accuracy: 0.9518\n",
            "Epoch 25/50\n",
            "1875/1875 [==============================] - 7s 4ms/step - loss: 0.1256 - accuracy: 0.9532\n",
            "Epoch 26/50\n",
            "1875/1875 [==============================] - 7s 4ms/step - loss: 0.1221 - accuracy: 0.9544\n",
            "Epoch 27/50\n",
            "1875/1875 [==============================] - 6s 3ms/step - loss: 0.1233 - accuracy: 0.9544\n",
            "Epoch 28/50\n",
            "1875/1875 [==============================] - 8s 4ms/step - loss: 0.1177 - accuracy: 0.9556\n",
            "Epoch 29/50\n",
            "1875/1875 [==============================] - 7s 4ms/step - loss: 0.1161 - accuracy: 0.9566\n",
            "Epoch 30/50\n",
            "1875/1875 [==============================] - 7s 4ms/step - loss: 0.1132 - accuracy: 0.9578\n",
            "Epoch 31/50\n",
            "1875/1875 [==============================] - 7s 4ms/step - loss: 0.1128 - accuracy: 0.9581\n",
            "Epoch 32/50\n",
            "1875/1875 [==============================] - 7s 4ms/step - loss: 0.1107 - accuracy: 0.9592\n",
            "Epoch 33/50\n",
            "1875/1875 [==============================] - 8s 4ms/step - loss: 0.1081 - accuracy: 0.9597\n",
            "Epoch 34/50\n",
            "1875/1875 [==============================] - 6s 3ms/step - loss: 0.1078 - accuracy: 0.9593\n",
            "Epoch 35/50\n",
            "1875/1875 [==============================] - 8s 4ms/step - loss: 0.1056 - accuracy: 0.9598\n",
            "Epoch 36/50\n",
            "1875/1875 [==============================] - 6s 3ms/step - loss: 0.1017 - accuracy: 0.9623\n",
            "Epoch 37/50\n",
            "1875/1875 [==============================] - 8s 4ms/step - loss: 0.1006 - accuracy: 0.9626\n",
            "Epoch 38/50\n",
            "1875/1875 [==============================] - 7s 4ms/step - loss: 0.1000 - accuracy: 0.9624\n",
            "Epoch 39/50\n",
            "1875/1875 [==============================] - 8s 4ms/step - loss: 0.0965 - accuracy: 0.9640\n",
            "Epoch 40/50\n",
            "1875/1875 [==============================] - 8s 4ms/step - loss: 0.0957 - accuracy: 0.9641\n",
            "Epoch 41/50\n",
            "1875/1875 [==============================] - 7s 4ms/step - loss: 0.0946 - accuracy: 0.9648\n",
            "Epoch 42/50\n",
            "1875/1875 [==============================] - 9s 5ms/step - loss: 0.0931 - accuracy: 0.9645\n",
            "Epoch 43/50\n",
            "1875/1875 [==============================] - 7s 4ms/step - loss: 0.0923 - accuracy: 0.9654\n",
            "Epoch 44/50\n",
            "1875/1875 [==============================] - 8s 4ms/step - loss: 0.0887 - accuracy: 0.9669\n",
            "Epoch 45/50\n",
            "1875/1875 [==============================] - 7s 4ms/step - loss: 0.0897 - accuracy: 0.9667\n",
            "Epoch 46/50\n",
            "1875/1875 [==============================] - 7s 4ms/step - loss: 0.0871 - accuracy: 0.9675\n",
            "Epoch 47/50\n",
            "1875/1875 [==============================] - 8s 4ms/step - loss: 0.0853 - accuracy: 0.9679\n",
            "Epoch 48/50\n",
            "1875/1875 [==============================] - 7s 4ms/step - loss: 0.0847 - accuracy: 0.9682\n",
            "Epoch 49/50\n",
            "1875/1875 [==============================] - 8s 4ms/step - loss: 0.0851 - accuracy: 0.9683\n",
            "Epoch 50/50\n",
            "1875/1875 [==============================] - 7s 4ms/step - loss: 0.0821 - accuracy: 0.9698\n"
          ]
        },
        {
          "output_type": "execute_result",
          "data": {
            "text/plain": [
              "<keras.callbacks.History at 0x7db597b56860>"
            ]
          },
          "metadata": {},
          "execution_count": 35
        }
      ]
    },
    {
      "cell_type": "code",
      "source": [
        "model.evaluate(test_images,test_labels)"
      ],
      "metadata": {
        "colab": {
          "base_uri": "https://localhost:8080/"
        },
        "id": "HqZN7lT4TE2r",
        "outputId": "3f43d2ec-0484-4ef2-d720-c7274e8e70c8"
      },
      "execution_count": null,
      "outputs": [
        {
          "output_type": "stream",
          "name": "stdout",
          "text": [
            "313/313 [==============================] - 1s 4ms/step - loss: 0.5836 - accuracy: 0.8875\n"
          ]
        },
        {
          "output_type": "execute_result",
          "data": {
            "text/plain": [
              "[0.5835672616958618, 0.887499988079071]"
            ]
          },
          "metadata": {},
          "execution_count": 36
        }
      ]
    },
    {
      "cell_type": "code",
      "source": [
        "classification = model.predict(test_images)"
      ],
      "metadata": {
        "colab": {
          "base_uri": "https://localhost:8080/"
        },
        "id": "qaH5_9KPVIPW",
        "outputId": "e6d1be5e-5dab-4e0a-bc1f-33ad064d5c17"
      },
      "execution_count": null,
      "outputs": [
        {
          "output_type": "stream",
          "name": "stdout",
          "text": [
            "313/313 [==============================] - 1s 3ms/step\n"
          ]
        }
      ]
    },
    {
      "cell_type": "code",
      "source": [
        "multi_class = {\n",
        "    0:\"T_shirt/top\",\n",
        "    1:\"trousers\",\n",
        "    2:\"pullover\",\n",
        "    3:\"dress\",\n",
        "    4:\"coat\",\n",
        "    5:\"sandals\",\n",
        "    6:\"Shirt\",\n",
        "    7:\"sneaker\",\n",
        "    8:\"Bag\",\n",
        "    9:\"Ankle boot\"\n",
        "}"
      ],
      "metadata": {
        "id": "EOTdvkr_VX1S"
      },
      "execution_count": null,
      "outputs": []
    },
    {
      "cell_type": "code",
      "source": [
        "print(\"the predicted image is :\",multi_class[np.argmax(classification[0])])\n",
        "print(\"the actual images is :\",multi_class[test_labels[0]])"
      ],
      "metadata": {
        "colab": {
          "base_uri": "https://localhost:8080/"
        },
        "id": "7HJ1qz1XVPge",
        "outputId": "b2bcd8c8-d23a-460e-98c8-0e744f040372"
      },
      "execution_count": null,
      "outputs": [
        {
          "output_type": "stream",
          "name": "stdout",
          "text": [
            "the predicted image is : Ankle boot\n",
            "the actual images is : Ankle boot\n"
          ]
        }
      ]
    }
  ]
}