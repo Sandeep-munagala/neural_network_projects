{
  "nbformat": 4,
  "nbformat_minor": 0,
  "metadata": {
    "colab": {
      "provenance": [],
      "authorship_tag": "ABX9TyPCsClxUF/vw/O8zsRlmq6O",
      "include_colab_link": true
    },
    "kernelspec": {
      "name": "python3",
      "display_name": "Python 3"
    },
    "language_info": {
      "name": "python"
    }
  },
  "cells": [
    {
      "cell_type": "markdown",
      "metadata": {
        "id": "view-in-github",
        "colab_type": "text"
      },
      "source": [
        "<a href=\"https://colab.research.google.com/github/Sandeep-munagala/neural_network_projects/blob/main/fraudcarddetection.ipynb\" target=\"_parent\"><img src=\"https://colab.research.google.com/assets/colab-badge.svg\" alt=\"Open In Colab\"/></a>"
      ]
    },
    {
      "cell_type": "code",
      "source": [
        "import pandas as pd"
      ],
      "metadata": {
        "id": "kG5ER_-ALpmu"
      },
      "execution_count": 66,
      "outputs": []
    },
    {
      "cell_type": "code",
      "source": [
        "df = pd.read_csv('creditcard.csv')\n",
        "df.fillna(0)\n",
        "df.isnull().sum()"
      ],
      "metadata": {
        "colab": {
          "base_uri": "https://localhost:8080/"
        },
        "id": "yHXEG6qVTFvB",
        "outputId": "8ca3058b-4c55-4223-97bb-da0119a29263"
      },
      "execution_count": 78,
      "outputs": [
        {
          "output_type": "execute_result",
          "data": {
            "text/plain": [
              "Time      0\n",
              "V1        0\n",
              "V2        0\n",
              "V3        0\n",
              "V4        0\n",
              "V5        0\n",
              "V6        0\n",
              "V7        0\n",
              "V8        0\n",
              "V9        0\n",
              "V10       0\n",
              "V11       0\n",
              "V12       0\n",
              "V13       1\n",
              "V14       1\n",
              "V15       1\n",
              "V16       1\n",
              "V17       1\n",
              "V18       1\n",
              "V19       1\n",
              "V20       1\n",
              "V21       1\n",
              "V22       1\n",
              "V23       1\n",
              "V24       1\n",
              "V25       1\n",
              "V26       1\n",
              "V27       1\n",
              "V28       1\n",
              "Amount    1\n",
              "Class     1\n",
              "dtype: int64"
            ]
          },
          "metadata": {},
          "execution_count": 78
        }
      ]
    },
    {
      "cell_type": "code",
      "source": [
        "df['Class'].value_counts(normalize=True)*100"
      ],
      "metadata": {
        "colab": {
          "base_uri": "https://localhost:8080/"
        },
        "id": "vmLJtI54TJdN",
        "outputId": "96949538-7af0-4b7a-9a8a-f8131b9dfa83"
      },
      "execution_count": 79,
      "outputs": [
        {
          "output_type": "execute_result",
          "data": {
            "text/plain": [
              "0.0    99.771965\n",
              "1.0     0.228035\n",
              "Name: Class, dtype: float64"
            ]
          },
          "metadata": {},
          "execution_count": 79
        }
      ]
    },
    {
      "cell_type": "code",
      "source": [
        "X = df.iloc[:,1:30]\n",
        "y = df.iloc[:,-1]"
      ],
      "metadata": {
        "id": "Gs6SI4jUTOFl"
      },
      "execution_count": 80,
      "outputs": []
    },
    {
      "cell_type": "code",
      "source": [
        "xtrain, xtest, ytrain, ytest = train_test_split(X, y, test_size=0.30, random_state=42)\n"
      ],
      "metadata": {
        "id": "2iaHX8q5TSZ0"
      },
      "execution_count": 81,
      "outputs": []
    },
    {
      "cell_type": "code",
      "source": [
        "print(xtrain.shape, xtest.shape, ytrain.shape, ytest.shape)"
      ],
      "metadata": {
        "colab": {
          "base_uri": "https://localhost:8080/"
        },
        "id": "Wu4x9PATTUnI",
        "outputId": "3cc4350d-4ce7-4053-c7d2-a71bdcf4b37a"
      },
      "execution_count": 82,
      "outputs": [
        {
          "output_type": "stream",
          "name": "stdout",
          "text": [
            "(66613, 29) (28549, 29) (66613,) (28549,)\n"
          ]
        }
      ]
    },
    {
      "cell_type": "code",
      "source": [
        "import tensorflow as tf\n",
        "from tensorflow.keras.layers import Dense\n",
        "from tensorflow.keras.models import Sequential"
      ],
      "metadata": {
        "id": "obVIWyhpTX0A"
      },
      "execution_count": 83,
      "outputs": []
    },
    {
      "cell_type": "code",
      "source": [
        "n_inputs = len(X.columns)\n",
        "sq = Sequential()\n",
        "\n",
        "# Define first hidden layer and visible layer\n",
        "# kernel_initializer - Weight Initializer\n",
        "sq.add(Dense(50, input_dim = n_inputs, activation = 'relu', kernel_initializer= 'he_uniform'))\n",
        "\n",
        "# Define output layer\n",
        "sq.add(Dense(1, activation = 'sigmoid'))\n",
        "\n",
        "# Define losss and optimizer\n",
        "# binary_crossentropy - Due to binary classification (0 & 1). If multi class, use Multi or sparse\n",
        "sq.compile(loss='binary_crossentropy', optimizer = 'adam',metrics = [\"accuracy\"])\n",
        "sq.fit(xtrain,ytrain, epochs=10)"
      ],
      "metadata": {
        "colab": {
          "base_uri": "https://localhost:8080/"
        },
        "id": "c8TDqXgbTeJZ",
        "outputId": "2c167f36-4c83-4b6a-d6dc-3038315b57b3"
      },
      "execution_count": 88,
      "outputs": [
        {
          "output_type": "stream",
          "name": "stdout",
          "text": [
            "Epoch 1/10\n",
            "2082/2082 [==============================] - 3s 1ms/step - loss: 0.0436 - accuracy: 0.9959\n",
            "Epoch 2/10\n",
            "2082/2082 [==============================] - 2s 1ms/step - loss: 0.0102 - accuracy: 0.9987\n",
            "Epoch 3/10\n",
            "2082/2082 [==============================] - 2s 1ms/step - loss: 0.0109 - accuracy: 0.9989\n",
            "Epoch 4/10\n",
            "2082/2082 [==============================] - 2s 1ms/step - loss: 0.0093 - accuracy: 0.9991\n",
            "Epoch 5/10\n",
            "2082/2082 [==============================] - 3s 1ms/step - loss: 0.0099 - accuracy: 0.9991\n",
            "Epoch 6/10\n",
            "2082/2082 [==============================] - 2s 1ms/step - loss: 0.0128 - accuracy: 0.9991\n",
            "Epoch 7/10\n",
            "2082/2082 [==============================] - 2s 1ms/step - loss: 0.0087 - accuracy: 0.9992\n",
            "Epoch 8/10\n",
            "2082/2082 [==============================] - 2s 1ms/step - loss: 0.0101 - accuracy: 0.9992\n",
            "Epoch 9/10\n",
            "2082/2082 [==============================] - 2s 1ms/step - loss: 0.0143 - accuracy: 0.9994\n",
            "Epoch 10/10\n",
            "2082/2082 [==============================] - 3s 1ms/step - loss: 0.0124 - accuracy: 0.9993\n"
          ]
        },
        {
          "output_type": "execute_result",
          "data": {
            "text/plain": [
              "<keras.callbacks.History at 0x7fe0e53bb010>"
            ]
          },
          "metadata": {},
          "execution_count": 88
        }
      ]
    },
    {
      "cell_type": "code",
      "source": [
        "predictions = sq.predict(xtest)"
      ],
      "metadata": {
        "colab": {
          "base_uri": "https://localhost:8080/"
        },
        "id": "YomNytMeVkDI",
        "outputId": "03093caf-e595-49c3-d0cb-d9a57b422c94"
      },
      "execution_count": 89,
      "outputs": [
        {
          "output_type": "stream",
          "name": "stdout",
          "text": [
            "893/893 [==============================] - 1s 921us/step\n"
          ]
        }
      ]
    },
    {
      "cell_type": "code",
      "source": [
        "np.argmax(predictions[0])"
      ],
      "metadata": {
        "colab": {
          "base_uri": "https://localhost:8080/"
        },
        "id": "sTY0Ih2qWoCO",
        "outputId": "c4f9d061-75af-41f3-c908-d7dac92a9979"
      },
      "execution_count": 91,
      "outputs": [
        {
          "output_type": "execute_result",
          "data": {
            "text/plain": [
              "0"
            ]
          },
          "metadata": {},
          "execution_count": 91
        }
      ]
    },
    {
      "cell_type": "code",
      "source": [
        "ytest = ytest.values"
      ],
      "metadata": {
        "id": "6EoQE5LtWr0K"
      },
      "execution_count": 95,
      "outputs": []
    },
    {
      "cell_type": "code",
      "source": [
        "ytest[0]"
      ],
      "metadata": {
        "colab": {
          "base_uri": "https://localhost:8080/"
        },
        "id": "plJdupHoWzjd",
        "outputId": "e130cd52-6829-44b5-a570-14f9fdae5154"
      },
      "execution_count": 96,
      "outputs": [
        {
          "output_type": "execute_result",
          "data": {
            "text/plain": [
              "0.0"
            ]
          },
          "metadata": {},
          "execution_count": 96
        }
      ]
    },
    {
      "cell_type": "code",
      "source": [
        "k = int(input(\"enter the number less than 28549!we have small dataset :) :\"))\n",
        "if np.argmax(predictions[k]) == ytest[k]:\n",
        "  print(\"\\n\\n**********\\n\\n\")\n",
        "  print(\"we did it :)\")"
      ],
      "metadata": {
        "colab": {
          "base_uri": "https://localhost:8080/"
        },
        "id": "TZmDmegHXZYG",
        "outputId": "66128864-e927-4334-ae1a-b04f060b9e3c"
      },
      "execution_count": 102,
      "outputs": [
        {
          "output_type": "stream",
          "name": "stdout",
          "text": [
            "enter the number less than 28549!we have small dataset :) :8374\n",
            "\n",
            "\n",
            "**********\n",
            "\n",
            "\n",
            "we did it :)\n"
          ]
        }
      ]
    }
  ]
}